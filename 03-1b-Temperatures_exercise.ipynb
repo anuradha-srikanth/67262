{
 "cells": [
  {
   "cell_type": "code",
   "execution_count": null,
   "metadata": {
    "collapsed": false
   },
   "outputs": [],
   "source": [
    "%load_ext sql\n",
    "%sql postgres://isdb16@localhost/postgres"
   ]
  },
  {
   "cell_type": "code",
   "execution_count": null,
   "metadata": {
    "collapsed": false
   },
   "outputs": [],
   "source": [
    "%%sql\n",
    "\n",
    "DROP TABLE if EXISTS Temperatures;\n",
    "DROP TABLE if EXISTS hottest_temperature;\n",
    "\n",
    "CREATE TABLE Temperatures (\n",
    "   city  text,\n",
    "   DAY   INT,\n",
    "   high_temp  FLOAT\n",
    "   );"
   ]
  },
  {
   "cell_type": "markdown",
   "metadata": {},
   "source": [
    "In the below synthetic data I've created data for 3 cities and sample dates. Note the following cities with the temperatures on\n",
    "```\n",
    "        1st   mesa \n",
    "        2nd   phoenix\n",
    "        5th   phoenix, mesa\n",
    "        7th   tempe\n",
    "        9th   mesa\n",
    "```\n",
    "\n",
    "Based on this we see that\n",
    "       mesa has the highest temperature 3 times\n",
    "       phoenix 2 times\n",
    "       tempe 1 time\n",
    "Hence the output will be\n",
    "\n",
    "```\n",
    "       count |  city\n",
    "      -------+---------\n",
    "           3 | mesa\n",
    "           2 | phoenix\n",
    "```"
   ]
  },
  {
   "cell_type": "code",
   "execution_count": null,
   "metadata": {
    "collapsed": false,
    "scrolled": true
   },
   "outputs": [],
   "source": [
    "%%sql\n",
    "\n",
    "INSERT INTO Temperatures (city, DAY, high_temp) VALUES\n",
    "   ('phoenix', 1, 110),\n",
    "   ('phoenix', 2, 110),      -- 2\n",
    "   ('phoenix', 5, 110),      -- 5\n",
    "   ('phoenix', 7, 109),\n",
    "\n",
    "   ('mesa', 1, 112),         -- 1\n",
    "   ('mesa', 2, 109),\n",
    "   ('mesa', 5, 110),         -- 5\n",
    "   ('mesa', 7, 109),\n",
    "   ('mesa', 9, 109),         -- 9\n",
    "\n",
    "   ('tempe', 7, 112)         -- 7"
   ]
  },
  {
   "cell_type": "code",
   "execution_count": null,
   "metadata": {
    "collapsed": false
   },
   "outputs": [],
   "source": [
    "%%sql\n",
    "\n",
    "-- find the hottest temperatures for each day\n",
    "\n",
    "DROP TABLE IF EXISTS Hottest_Temperatures;\n",
    "\n"
   ]
  }
 ],
 "metadata": {
  "kernelspec": {
   "display_name": "Python 3",
   "language": "python",
   "name": "python3"
  },
  "language_info": {
   "codemirror_mode": {
    "name": "ipython",
    "version": 3
   },
   "file_extension": ".py",
   "mimetype": "text/x-python",
   "name": "python",
   "nbconvert_exporter": "python",
   "pygments_lexer": "ipython3",
   "version": "3.5.1"
  }
 },
 "nbformat": 4,
 "nbformat_minor": 0
}
