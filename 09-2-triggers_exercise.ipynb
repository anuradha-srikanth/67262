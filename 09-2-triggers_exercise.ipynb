{
 "cells": [
  {
   "cell_type": "markdown",
   "metadata": {},
   "source": [
    "## Triggers Exercise"
   ]
  },
  {
   "cell_type": "code",
   "execution_count": null,
   "metadata": {
    "collapsed": false,
    "scrolled": true
   },
   "outputs": [],
   "source": [
    "%load_ext sql\n",
    "%sql postgres://isdb16@localhost/postgres"
   ]
  },
  {
   "cell_type": "markdown",
   "metadata": {},
   "source": [
    "#### A populated Students table "
   ]
  },
  {
   "cell_type": "code",
   "execution_count": null,
   "metadata": {
    "collapsed": false
   },
   "outputs": [],
   "source": [
    "%%sql\n",
    "\n",
    "drop table if exists Students;\n",
    "\n",
    "create table Students(name text, exam float, per float);\n",
    "\n",
    "insert into Students (name, exam)\n",
    "       values ('Jack', 60), ('Jill', 70), ('Pat', 80);\n",
    "    \n",
    "select * from Students;"
   ]
  },
  {
   "cell_type": "code",
   "execution_count": null,
   "metadata": {
    "collapsed": false
   },
   "outputs": [],
   "source": [
    "%%sql\n",
    "\n",
    "drop function if exists fn_percent_incr() cascade;\n",
    "\n",
    "create function fn_percent_incr() returns trigger\n",
    "language plpgsql as\n",
    "$$\n",
    "BEGIN\n",
    "    \n",
    "    \n",
    "    \n",
    "    \n",
    "    \n",
    "END\n",
    "$$;\n",
    "\n",
    "-- something is not complete below !!!\n",
    "\n",
    "CREATE TRIGGER tr_percent_incr AFTER UPDATE ON Students\n",
    "  FOR EACH ROW\n",
    "  EXECUTE PROCEDURE fn_percent_incr();"
   ]
  },
  {
   "cell_type": "code",
   "execution_count": null,
   "metadata": {
    "collapsed": true
   },
   "outputs": [],
   "source": []
  },
  {
   "cell_type": "code",
   "execution_count": null,
   "metadata": {
    "collapsed": false
   },
   "outputs": [],
   "source": [
    "%%sql\n",
    "\n",
    "UPDATE Students\n",
    "   SET exam = exam + 10\n",
    " WHERE name = 'Jack'\n",
    "    \n"
   ]
  },
  {
   "cell_type": "code",
   "execution_count": null,
   "metadata": {
    "collapsed": false,
    "scrolled": false
   },
   "outputs": [],
   "source": [
    "%sql select * from Students;"
   ]
  },
  {
   "cell_type": "code",
   "execution_count": null,
   "metadata": {
    "collapsed": true
   },
   "outputs": [],
   "source": []
  }
 ],
 "metadata": {
  "kernelspec": {
   "display_name": "Python 3",
   "language": "python",
   "name": "python3"
  },
  "language_info": {
   "codemirror_mode": {
    "name": "ipython",
    "version": 3
   },
   "file_extension": ".py",
   "mimetype": "text/x-python",
   "name": "python",
   "nbconvert_exporter": "python",
   "pygments_lexer": "ipython3",
   "version": "3.5.2"
  }
 },
 "nbformat": 4,
 "nbformat_minor": 0
}
