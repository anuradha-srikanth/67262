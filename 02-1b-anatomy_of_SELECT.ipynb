{
 "cells": [
  {
   "cell_type": "markdown",
   "metadata": {},
   "source": [
    "## Anatomy of the SELECT statement\n",
    "\n",
    "The general structure of a `SELECT` statement is\n",
    "\n",
    "```\n",
    "      SELECT   <columns> \n",
    "        FROM   <table>             \n",
    "       WHERE   <predicate on rows> \n",
    "    GROUP BY   <columns> \n",
    "      HAVING   <predicate on groups> \n",
    "    ORDER BY   <columns> \n",
    "```\n",
    "\n",
    "In this NB we look at the various clauses in the `SELECT` statement "
   ]
  },
  {
   "cell_type": "code",
   "execution_count": null,
   "metadata": {
    "collapsed": false
   },
   "outputs": [],
   "source": [
    "%load_ext sql\n",
    "\n",
    "# Windows users, please specify your password\n",
    "%sql postgres://isdb16@localhost/postgres"
   ]
  },
  {
   "cell_type": "code",
   "execution_count": null,
   "metadata": {
    "collapsed": false
   },
   "outputs": [],
   "source": [
    "%%sql\n",
    "\n",
    "DROP TABLE IF EXISTS Students CASCADE; \n",
    "\n",
    "CREATE TABLE Students (\n",
    "    PRIMARY KEY(id),\n",
    "    id     text,\n",
    "    name   text,\n",
    "    state  CHAR(2),\n",
    "    gpa    NUMERIC(3,2)\n",
    ");\n",
    "\n",
    "INSERT INTO Students (id, name, state, gpa)\n",
    "     VALUES\n",
    "     ('s1', 'Mary',  'PA', 4.00),\n",
    "     ('s2', 'Jack',  'CA', 3.25),\n",
    "     ('s3', 'Pat',   'FL', 2.78),\n",
    "     ('s4', 'Jill',  'FL', 2.5),\n",
    "     ('s5', 'Joe',   'PA', 3.9),\n",
    "     ('s6', 'Ellen', 'CA', 3.00),\n",
    "     ('s7', 'Harry', 'PA', 1.50),\n",
    "     ('s8', 'Sally', 'OH', 3.25);"
   ]
  },
  {
   "cell_type": "markdown",
   "metadata": {},
   "source": [
    "**Note**: While not needed, the output of all SELECT queries have been ordered for easy verification.\n",
    "\n",
    "### Simple  SELECT / FROM queries\n",
    "\n",
    "####  List all the fields of the Students table"
   ]
  },
  {
   "cell_type": "code",
   "execution_count": null,
   "metadata": {
    "collapsed": false
   },
   "outputs": [],
   "source": [
    "%%sql \n",
    "\n",
    "  SELECT *\n",
    "    FROM Students\n",
    "ORDER BY id;"
   ]
  },
  {
   "cell_type": "markdown",
   "metadata": {},
   "source": [
    "Think of the `FROM` clause being equivalent to a 'loop' in\n",
    "procedural languages. When the SQL processor executes the `FROM`\n",
    "clause it iterates over each row\n",
    "\n",
    "The result of any select statement is a table. The above `SELECT`\n",
    "statement started from `Students`, an 8x4 table, and produced another\n",
    "8x4 table."
   ]
  },
  {
   "cell_type": "markdown",
   "metadata": {},
   "source": [
    "### Filtering rows with a WHERE clause\n",
    "\n",
    "During the process of iteration of the FROM clause the WHERE clause\n",
    "functions as an 'if' statement allowing only those rows that\n",
    "satisfy the predicate to be processed by the SELECT clause.\n",
    "\n",
    "####  Which state is Jack from?"
   ]
  },
  {
   "cell_type": "code",
   "execution_count": null,
   "metadata": {
    "collapsed": false
   },
   "outputs": [],
   "source": [
    "%%sql\n",
    "\n",
    "SELECT  state\n",
    "  FROM  Students\n",
    " WHERE  name = 'Jack';"
   ]
  },
  {
   "cell_type": "markdown",
   "metadata": {},
   "source": [
    "The result is a 1x1 table"
   ]
  },
  {
   "cell_type": "markdown",
   "metadata": {},
   "source": [
    "#### What is Joe’s GPA"
   ]
  },
  {
   "cell_type": "code",
   "execution_count": null,
   "metadata": {
    "collapsed": false
   },
   "outputs": [],
   "source": [
    "%%sql \n",
    "\n",
    "SELECT  name, gpa\n",
    "  FROM  Students\n",
    " WHERE  name = 'Joe';\n"
   ]
  },
  {
   "cell_type": "markdown",
   "metadata": {},
   "source": [
    "The result is a 1x2 table"
   ]
  },
  {
   "cell_type": "markdown",
   "metadata": {},
   "source": [
    "\n",
    "#### Who are all the students who have a B and above GPA?\n"
   ]
  },
  {
   "cell_type": "code",
   "execution_count": null,
   "metadata": {
    "collapsed": false
   },
   "outputs": [],
   "source": [
    "%%sql\n",
    "\n",
    "  SELECT  name, gpa\n",
    "    FROM  Students\n",
    "   WHERE  gpa >= 3.0\n",
    "ORDER BY name;\n"
   ]
  },
  {
   "cell_type": "markdown",
   "metadata": {},
   "source": [
    "### How a SELECT statement is executed \n",
    "\n",
    "The structural order of classes in a `SELECT` statement is\n",
    "\n",
    "```\n",
    "SELECT   <columns>\n",
    "  FROM   <table>\n",
    " WHERE   <predicate>\n",
    "```\n",
    "This order is mandated by the SQL spec.\n",
    "\n",
    "Even though we write the clauses in this order, this is not the\n",
    "order in which they are executed.  The execution order is below\n",
    "\n",
    "```\n",
    "      SELECT   <columns> ........... 3\n",
    "        FROM   <table>  ............ 1            \n",
    "       WHERE   <predicate> ......... 2\n",
    "```\n",
    "\n",
    "1. The SQL processor first identifies which table it is going to\n",
    "   work on.  So far our tables are from CREATE TABLE statements.\n",
    "   We'll call these as _base tables_ (in contrast to 'virtual\n",
    "   tables' we'll see later on).\n",
    "   \n",
    "2. The table from step-1 is then filtered rowise.  Those rows\n",
    "   that satisfy the predicate form another (temporary) table.\n",
    "   \n",
    "3. SQL processor takes the table from step-2 and extracts the\n",
    "   specified columns.  At this point if an aggragation function\n",
    "   (`count, max, min, avg`) is used the aggregate is calculated from\n",
    "   the rows of the table in stpe-2 (see below)"
   ]
  },
  {
   "cell_type": "markdown",
   "metadata": {},
   "source": [
    "### Aliases\n",
    "\n",
    "Within a single table column names need to be unique.  Hence when\n",
    "working with a single table when a query refers to a column there\n",
    "is no ambiguity as to which column we are referring to But when\n",
    "working with multiple tables the same column name can be used\n",
    "across multiple tables e.g., the column name 'state' could be used\n",
    "in different tables.  To disambiguate and indicate which table's\n",
    "'state' column we are refering to, we need to preface the column name\n",
    "with the table name.  Hence the above query could be written as:"
   ]
  },
  {
   "cell_type": "code",
   "execution_count": null,
   "metadata": {
    "collapsed": false
   },
   "outputs": [],
   "source": [
    "%%sql\n",
    "\n",
    "  SELECT  Students.name, Students.gpa\n",
    "    FROM  Students\n",
    "   WHERE  gpa >= 3.0\n",
    "ORDER BY name;\n"
   ]
  },
  {
   "cell_type": "markdown",
   "metadata": {},
   "source": [
    "and we get the same result set.\n",
    "\n",
    "Of course, in this example we have only 1 table and hence don't\n",
    "really need the prefix.  Often using the full table name as a\n",
    "prefix is cumbersome and hence we use a shorter alias to refer to\n",
    "the table"
   ]
  },
  {
   "cell_type": "code",
   "execution_count": null,
   "metadata": {
    "collapsed": false
   },
   "outputs": [],
   "source": [
    "%%sql\n",
    "\n",
    "  SELECT  s.name, s.gpa\n",
    "    FROM  Students AS s\n",
    "   WHERE  gpa >= 3.0\n",
    "ORDER BY name;\n"
   ]
  },
  {
   "cell_type": "markdown",
   "metadata": {},
   "source": [
    "Again, we get the same answer (as we should!)"
   ]
  },
  {
   "cell_type": "markdown",
   "metadata": {},
   "source": [
    "### Sorting (aka ORDER BY)\n",
    "\n",
    "The order of the rows and columns in a table are irrelevant.\n",
    "(There is not such thing as a row that follows another row etc or a\n",
    "column to the right of another column.)  When we do want the output\n",
    "to be arranged in a particular sequence we use the ORDER BY clause\n",
    "\n",
    "#### List the names of students who have a B or above in descending order of their GPA. Break ties by sorting in ascending order by name"
   ]
  },
  {
   "cell_type": "code",
   "execution_count": null,
   "metadata": {
    "collapsed": false
   },
   "outputs": [],
   "source": [
    "%%sql \n",
    "\n",
    "SELECT  s.name, s.gpa\n",
    "    FROM  Students AS s\n",
    "   WHERE  gpa >= 3.0\n",
    "ORDER BY  s.gpa DESC, s.name ASC;\n"
   ]
  },
  {
   "cell_type": "markdown",
   "metadata": {},
   "source": [
    "Since we are workning with just 1 table, the column names will be\n",
    "unique and hence the alias prefix could be omitted."
   ]
  },
  {
   "cell_type": "markdown",
   "metadata": {},
   "source": [
    "## Aggregation functions\n",
    "\n",
    "#### What is the average GPA of all students?"
   ]
  },
  {
   "cell_type": "code",
   "execution_count": null,
   "metadata": {
    "collapsed": false
   },
   "outputs": [],
   "source": [
    "%%sql\n",
    "SELECT AVG(gpa)\n",
    "  FROM students;\n",
    "    "
   ]
  },
  {
   "cell_type": "markdown",
   "metadata": {},
   "source": [
    "Note that the AVG aggregation function gives back a _single_\n",
    "value.  To be precise we get back a table with just ONE column and\n",
    "ONE row.  Recall that _all_ select statements return a table.\n",
    "\n",
    "Since `AVG(gpa)` is a single value we can not do something like: "
   ]
  },
  {
   "cell_type": "raw",
   "metadata": {},
   "source": [
    "%%sql \n",
    "--raw\n",
    "SELECT student, AVG(gpa)\n",
    "FROM students;\n"
   ]
  },
  {
   "cell_type": "markdown",
   "metadata": {},
   "source": [
    "as we are trying to display tables of different sizes."
   ]
  },
  {
   "cell_type": "markdown",
   "metadata": {},
   "source": [
    "####  Another (even simpler) aggregation:  How many students are there?"
   ]
  },
  {
   "cell_type": "code",
   "execution_count": null,
   "metadata": {
    "collapsed": false
   },
   "outputs": [],
   "source": [
    "%%sql\n",
    "\n",
    "SELECT COUNT(NAME)\n",
    "  FROM students;\n",
    "    "
   ]
  },
  {
   "cell_type": "markdown",
   "metadata": {},
   "source": [
    "note that the SELECT statement returns a 1x1 table.\n",
    "\n",
    "## Aggregations + WHERE\n",
    "\n",
    "\n",
    "We can combine aggregation functions AND WHERE clauses.\n",
    "\n",
    "#### How many students are from PA?\n",
    "\n",
    "To get a count of students we could aggregate over any column\n",
    "So we could also say `SELECT COUNT( name )`"
   ]
  },
  {
   "cell_type": "code",
   "execution_count": null,
   "metadata": {
    "collapsed": false
   },
   "outputs": [],
   "source": [
    "%%sql\n",
    "\n",
    "SELECT COUNT(state)\n",
    "  FROM students\n",
    " WHERE STATE = 'PA';\n"
   ]
  },
  {
   "cell_type": "markdown",
   "metadata": {},
   "source": [
    "Note that there is a subtle difference between\n",
    "`COUNT(*)` and `COUNT(name)`.  `COUNT(*)` will count _all_ the rows of\n",
    "the table.  Where as `COUNT(name)` will count the NON NULL values in\n",
    "the columns 'name'.  Hence if the value of the name of a student is\n",
    "NULL then count(*) and count(name) will be different\n",
    "\n",
    "\n",
    "### Re-visiting how a SELECT statement is executed \n",
    "\n",
    "The execution order is below\n",
    "```\n",
    "      SELECT   <columns> ........... 3\n",
    "        FROM   <table>  ............ 1            \n",
    "       WHERE   <predicate> ......... 2\n",
    "    ORDER BY   <columns> ........... 4\n",
    "```\n",
    "\n",
    "  1. The SQL processor first identifies which table it is going to\n",
    "     work on.  So far our tables are from CREATE TABLE clauses.\n",
    "     We'll call these as 'actual tables' (in contrast to 'virtual\n",
    "     tables' we'll see later on).\n",
    "  2. The table from step-1 is then filterered rowise.  Those rows\n",
    "     that satisfy the predicate form another (temporary) table.\n",
    "  3. SQL processor takes the table from step-2 and extracts the\n",
    "     specified columns.  At this point if an aggragation function\n",
    "     (count, max, min, avg) is used the aggregate is calculated from\n",
    "     the rows of the table in stpe-2\n",
    "  4. Once the relevant columns have been selected (or the aggregate\n",
    "     calculated) we get one more temporary table which is arranged\n",
    "     by the ORDER BY clause and then we get our final result"
   ]
  },
  {
   "cell_type": "markdown",
   "metadata": {},
   "source": [
    "## GROUPS \n",
    "\n",
    " Earlier we saw the queries along the following lines:\n",
    "   - which state is a person from?\n",
    "   - who are all the people from a particular state?\n",
    "   - how many students in total are there?\n",
    "   - how many students are from a particular state\n",
    "\n",
    "Now suppose we want to know:\n",
    "\n",
    "#### How many students come from each state?\n"
   ]
  },
  {
   "cell_type": "markdown",
   "metadata": {},
   "source": [
    "Conceptually realizing this query is easy:\n",
    "\n",
    "   1. From groups of students from each state e.g., all students\n",
    "       from PA, all from FL, all from CA etc.\n",
    "   2. Count the number of students in each group.\n",
    "    \n",
    "we relaize this in SQL with:"
   ]
  },
  {
   "cell_type": "code",
   "execution_count": null,
   "metadata": {
    "collapsed": false
   },
   "outputs": [],
   "source": [
    "%%sql \n",
    "\n",
    "  SELECT state, COUNT(STATE)\n",
    "    FROM Students\n",
    "GROUP BY state\n",
    "ORDER BY state;\n"
   ]
  },
  {
   "cell_type": "markdown",
   "metadata": {},
   "source": [
    "The execution of the above statement can be visually disected along\n",
    "the following lines.  Suppose we executed the following query:"
   ]
  },
  {
   "cell_type": "code",
   "execution_count": null,
   "metadata": {
    "collapsed": false
   },
   "outputs": [],
   "source": [
    "%%sql \n",
    "\n",
    "SELECT *\n",
    "  FROM Students\n",
    " ORDER BY STATE;\n",
    "  "
   ]
  },
  {
   "cell_type": "markdown",
   "metadata": {},
   "source": [
    "Students from the same state are grouped together. \n",
    "So instead of viewing a table of 8 rows we could view the table\n",
    "has having 4 groups:\n",
    "```\n",
    "        +----+-------+-------+------+\n",
    "        | id | name  | state | gpa  |\n",
    "        +----+-------+-------+------+\n",
    "        | s6 | Ellen | CA    | 3.00 |\n",
    "        | s2 | Jack  | CA    | 3.25 |\n",
    "        +----+-------+-------+------+\n",
    "        | s3 | Pat   | FL    | 2.78 |\n",
    "        | s4 | Jill  | FL    | 2.50 |\n",
    "        +----+-------+-------+------+\n",
    "        | s8 | Sally | OH    | 3.25 |\n",
    "        +----+-------+-------+------+\n",
    "        | s5 | Joe   | PA    | 3.90 |\n",
    "        | s1 | Mary  | PA    | 4.00 |\n",
    "        | s7 | Harry | PA    | 1.50 |\n",
    "        +----+-------+-------+------+\n",
    "```\n",
    "The order of execution of the various clauses is now:\n",
    "\n",
    "```\n",
    "      SELECT   <columns> ........... 4\n",
    "        FROM   <table>  ............ 1           \n",
    "       WHERE   <predicate> ......... 2\n",
    "    GROUP BY   <columns> ........... 3\n",
    "    ORDER BY   <columns> ............5\n",
    "```\n",
    "\n",
    "**Once we have formed groups, the SELECT clause is applied to the\n",
    "groups and not the individual rows.**  Hence we can ask (list the\n",
    "count for each each state)"
   ]
  },
  {
   "cell_type": "code",
   "execution_count": null,
   "metadata": {
    "collapsed": false
   },
   "outputs": [],
   "source": [
    "%%sql\n",
    "\n",
    "  SELECT state, COUNT(state)\n",
    "    FROM Students\n",
    "GROUP BY state\n",
    "ORDER BY state;\n"
   ]
  },
  {
   "cell_type": "markdown",
   "metadata": {},
   "source": [
    "But we **CAN NOT** ask:"
   ]
  },
  {
   "cell_type": "raw",
   "metadata": {},
   "source": [
    "%%sql\n",
    "--error\n",
    "\n",
    "      SELECT state, name\n",
    "        FROM Students\n",
    "    GROUP BY STATE;\n",
    "    "
   ]
  },
  {
   "cell_type": "markdown",
   "metadata": {},
   "source": [
    "With the intention of grouping each person according to the state\n",
    "they come from.\n",
    "\n",
    "The column `name` is applicable at the row level.  A group does not\n",
    "have a SINGLE value for the `name` column. "
   ]
  },
  {
   "cell_type": "markdown",
   "metadata": {},
   "source": [
    "**Question:** Suppose we group a table on attribute `a1`.  Write a SQL expression that will compute the number of groups that will be formed when grouping on `a1`"
   ]
  },
  {
   "cell_type": "raw",
   "metadata": {},
   "source": [
    "\n",
    "\n",
    "\n",
    "\n"
   ]
  },
  {
   "cell_type": "markdown",
   "metadata": {},
   "source": [
    "### HAVING\n",
    "\n",
    "Similar to how we filtered rows with a `WHERE` clause we can filter\n",
    "groups with a `HAVING` clause\n",
    "\n",
    "#### How many states have more than 1 students?"
   ]
  },
  {
   "cell_type": "code",
   "execution_count": null,
   "metadata": {
    "collapsed": false
   },
   "outputs": [],
   "source": [
    "%%sql \n",
    "\n",
    "  SELECT state, COUNT(name)\n",
    "    FROM Students\n",
    "GROUP BY STATE\n",
    "  HAVING COUNT(NAME) > 1\n",
    "ORDER BY State;\n"
   ]
  },
  {
   "cell_type": "markdown",
   "metadata": {},
   "source": [
    "We can arrange the input in descending order of count with:"
   ]
  },
  {
   "cell_type": "code",
   "execution_count": null,
   "metadata": {
    "collapsed": false
   },
   "outputs": [],
   "source": [
    "%%sql \n",
    "\n",
    "  SELECT state, COUNT(name)\n",
    "    FROM Students\n",
    "GROUP BY STATE\n",
    "  HAVING COUNT(NAME) > 1\n",
    "ORDER BY COUNT(NAME) DESC, STATE ASC; \n"
   ]
  },
  {
   "cell_type": "markdown",
   "metadata": {},
   "source": [
    "Including `HAVING` the order of execution of SQL clauses is:\n",
    "```\n",
    "      SELECT   <columns> ................... 5\n",
    "        FROM   <table>  .................... 1           \n",
    "       WHERE   <predicate on rows> ......... 2\n",
    "    GROUP BY   <columns> ................... 3\n",
    "      HAVING   <predicate on groups> ....... 4\n",
    "    ORDER BY   <columns> ................... 6\n",
    "```"
   ]
  },
  {
   "cell_type": "markdown",
   "metadata": {},
   "source": [
    "## Sub queries\n",
    "\n",
    "Suppose we want the answer to\n",
    "\n",
    "#### How many students have a score above the average?\n",
    "\n",
    "If we knew the average then the query is very simple:\n",
    "\n",
    "```\n",
    "   SELECT name, gpa\n",
    "     FROM Students\n",
    "    WHERE gpa > avg(gpa)\n",
    "```\n",
    "\n",
    "We can NOT do the above because we have a dependency situation.\n",
    "Recall that the `WHERE` is a filter --- from amongst all the rows in\n",
    "the `Students` table it allows those rows that meet the condition\n",
    "through.  It is only after the filtering is done that the average\n",
    "cab be calculated!  Hence we need to solve this query in a two step\n",
    "process (1) calculate the average GPA for the whole class and (2)\n",
    "filter those rows whose avg GPA is greater than the avg.\n",
    "\n",
    "We could do this actually in two steps:"
   ]
  },
  {
   "cell_type": "code",
   "execution_count": null,
   "metadata": {
    "collapsed": false
   },
   "outputs": [],
   "source": [
    "%%sql \n",
    "\n",
    "SELECT avg(gpa)        -- ..... query-1\n",
    "  FROM Students;\n",
    "    "
   ]
  },
  {
   "cell_type": "markdown",
   "metadata": {},
   "source": [
    "Now filter based on the value of 3.0225"
   ]
  },
  {
   "cell_type": "code",
   "execution_count": null,
   "metadata": {
    "collapsed": false
   },
   "outputs": [],
   "source": [
    "%%sql\n",
    "\n",
    "  SELECT name, gpa     -- ..... query-2\n",
    "    FROM Students\n",
    "   WHERE gpa > 3.0225\n",
    "ORDER BY name;"
   ]
  },
  {
   "cell_type": "markdown",
   "metadata": {},
   "source": [
    "We can combine query-1 and query-2 into a single query as"
   ]
  },
  {
   "cell_type": "code",
   "execution_count": null,
   "metadata": {
    "collapsed": false
   },
   "outputs": [],
   "source": [
    "%%sql\n",
    "\n",
    "  SELECT name, gpa\n",
    "    FROM Students\n",
    "   WHERE gpa > (SELECT avg(gpa) from Students)    -- avg(gpa)\n",
    "ORDER BY name;    "
   ]
  },
  {
   "cell_type": "markdown",
   "metadata": {},
   "source": [
    "The parens around the sub-query are required."
   ]
  }
 ],
 "metadata": {
  "kernelspec": {
   "display_name": "Python 3",
   "language": "python",
   "name": "python3"
  },
  "language_info": {
   "codemirror_mode": {
    "name": "ipython",
    "version": 3
   },
   "file_extension": ".py",
   "mimetype": "text/x-python",
   "name": "python",
   "nbconvert_exporter": "python",
   "pygments_lexer": "ipython3",
   "version": "3.5.1"
  }
 },
 "nbformat": 4,
 "nbformat_minor": 0
}
