{
 "cells": [
  {
   "cell_type": "markdown",
   "metadata": {},
   "source": [
    "## Exploring JOINs"
   ]
  },
  {
   "cell_type": "code",
   "execution_count": null,
   "metadata": {
    "collapsed": false
   },
   "outputs": [],
   "source": [
    "%load_ext sql\n",
    "%sql postgres://isdb16@localhost/postgres"
   ]
  },
  {
   "cell_type": "code",
   "execution_count": null,
   "metadata": {
    "collapsed": false
   },
   "outputs": [],
   "source": [
    "%%sql\n",
    "\n",
    "DROP TABLE IF EXISTS Students;\n",
    "DROP TABLE IF EXISTS Majors;\n",
    "\n",
    "CREATE TABLE Majors (\n",
    "    PRIMARY KEY(mid),\n",
    "    mid      integer,\n",
    "    name     text\n",
    ");\n",
    "\n",
    "CREATE TABLE Students (\n",
    "    PRIMARY KEY(sid),\n",
    "    sid     integer,\n",
    "    name    text,\n",
    "    major   integer\n",
    "    -- FOREIGN KEY (major) REFERENCES Majors(mid)\n",
    ");\n",
    "\n",
    "INSERT INTO Students VALUES\n",
    "    (1, 'Jack', 1),\n",
    "    (2, 'Jill', 2),\n",
    "    (3, 'Bill', 3),\n",
    "    (4, 'Pat',  4);\n",
    "    \n",
    "INSERT INTO Majors VALUES\n",
    "    (1, 'Information Systems'),\n",
    "    (2, 'Statistics'),\n",
    "    (3, 'Business'),\n",
    "    (5, 'History');\n"
   ]
  },
  {
   "cell_type": "code",
   "execution_count": null,
   "metadata": {
    "collapsed": false
   },
   "outputs": [],
   "source": [
    "%%sql\n",
    "-- most common form of join\n",
    "\n",
    "\n",
    "\n",
    "\n"
   ]
  },
  {
   "cell_type": "code",
   "execution_count": null,
   "metadata": {
    "collapsed": false
   },
   "outputs": [],
   "source": [
    "%%sql\n",
    "-- you can join on any condition\n",
    "\n",
    "\n",
    "\n",
    "\n"
   ]
  },
  {
   "cell_type": "markdown",
   "metadata": {},
   "source": [
    "### How many possible types of JOINs are there?\n",
    "[Hint: How many ways of combining the different areas of the Venn diagram?]"
   ]
  },
  {
   "cell_type": "code",
   "execution_count": null,
   "metadata": {
    "collapsed": true
   },
   "outputs": [],
   "source": []
  }
 ],
 "metadata": {
  "kernelspec": {
   "display_name": "Python 3",
   "language": "python",
   "name": "python3"
  },
  "language_info": {
   "codemirror_mode": {
    "name": "ipython",
    "version": 3
   },
   "file_extension": ".py",
   "mimetype": "text/x-python",
   "name": "python",
   "nbconvert_exporter": "python",
   "pygments_lexer": "ipython3",
   "version": "3.5.1"
  }
 },
 "nbformat": 4,
 "nbformat_minor": 0
}
